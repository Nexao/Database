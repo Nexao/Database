{
 "cells": [
  {
   "cell_type": "code",
   "execution_count": 1,
   "metadata": {},
   "outputs": [
    {
     "data": {
      "text/plain": [
       "'Connected: appdev@appdev'"
      ]
     },
     "execution_count": 1,
     "metadata": {},
     "output_type": "execute_result"
    }
   ],
   "source": [
    "%load_ext sql\n",
    "%sql postgresql://appdev@data/appdev"
   ]
  },
  {
   "cell_type": "code",
   "execution_count": 4,
   "metadata": {},
   "outputs": [
    {
     "name": "stdout",
     "output_type": "stream",
     "text": [
      "3 rows affected.\n"
     ]
    },
    {
     "data": {
      "text/html": [
       "<table>\n",
       "    <tr>\n",
       "        <th>schemaname</th>\n",
       "        <th>tablename</th>\n",
       "        <th>indexname</th>\n",
       "        <th>tablespace</th>\n",
       "        <th>indexdef</th>\n",
       "    </tr>\n",
       "    <tr>\n",
       "        <td>f1db</td>\n",
       "        <td>circuits</td>\n",
       "        <td>idx_17102_url</td>\n",
       "        <td>None</td>\n",
       "        <td>CREATE UNIQUE INDEX idx_17102_url ON circuits USING btree (url)</td>\n",
       "    </tr>\n",
       "    <tr>\n",
       "        <td>f1db</td>\n",
       "        <td>circuits</td>\n",
       "        <td>circuits_position_idx</td>\n",
       "        <td>None</td>\n",
       "        <td>CREATE INDEX circuits_position_idx ON circuits USING gist (&quot;position&quot;)</td>\n",
       "    </tr>\n",
       "    <tr>\n",
       "        <td>f1db</td>\n",
       "        <td>circuits</td>\n",
       "        <td>idx_17102_primary</td>\n",
       "        <td>None</td>\n",
       "        <td>CREATE UNIQUE INDEX idx_17102_primary ON circuits USING btree (circuitid)</td>\n",
       "    </tr>\n",
       "</table>"
      ],
      "text/plain": [
       "[('f1db', 'circuits', 'idx_17102_url', None, 'CREATE UNIQUE INDEX idx_17102_url ON circuits USING btree (url)'),\n",
       " ('f1db', 'circuits', 'circuits_position_idx', None, 'CREATE INDEX circuits_position_idx ON circuits USING gist (\"position\")'),\n",
       " ('f1db', 'circuits', 'idx_17102_primary', None, 'CREATE UNIQUE INDEX idx_17102_primary ON circuits USING btree (circuitid)')]"
      ]
     },
     "execution_count": 4,
     "metadata": {},
     "output_type": "execute_result"
    }
   ],
   "source": [
    "%sql select * from pg_indexes where tablename = 'circuits';"
   ]
  },
  {
   "cell_type": "markdown",
   "metadata": {},
   "source": [
    "Above we find all the indexnames"
   ]
  },
  {
   "cell_type": "code",
   "execution_count": 5,
   "metadata": {},
   "outputs": [
    {
     "name": "stdout",
     "output_type": "stream",
     "text": [
      "1 rows affected.\n"
     ]
    },
    {
     "data": {
      "text/html": [
       "<table>\n",
       "    <tr>\n",
       "        <th>pg_size_pretty</th>\n",
       "    </tr>\n",
       "    <tr>\n",
       "        <td>16 kB</td>\n",
       "    </tr>\n",
       "</table>"
      ],
      "text/plain": [
       "[('16 kB',)]"
      ]
     },
     "execution_count": 5,
     "metadata": {},
     "output_type": "execute_result"
    }
   ],
   "source": [
    "%sql select pg_size_pretty(pg_relation_size('idx_17102_url'));"
   ]
  },
  {
   "cell_type": "code",
   "execution_count": 6,
   "metadata": {},
   "outputs": [
    {
     "name": "stdout",
     "output_type": "stream",
     "text": [
      "1 rows affected.\n"
     ]
    },
    {
     "data": {
      "text/html": [
       "<table>\n",
       "    <tr>\n",
       "        <th>pg_size_pretty</th>\n",
       "    </tr>\n",
       "    <tr>\n",
       "        <td>8192 bytes</td>\n",
       "    </tr>\n",
       "</table>"
      ],
      "text/plain": [
       "[('8192 bytes',)]"
      ]
     },
     "execution_count": 6,
     "metadata": {},
     "output_type": "execute_result"
    }
   ],
   "source": [
    "%sql select pg_size_pretty(pg_relation_size('circuits_position_idx'));"
   ]
  },
  {
   "cell_type": "code",
   "execution_count": 8,
   "metadata": {},
   "outputs": [
    {
     "name": "stdout",
     "output_type": "stream",
     "text": [
      "1 rows affected.\n"
     ]
    },
    {
     "data": {
      "text/html": [
       "<table>\n",
       "    <tr>\n",
       "        <th>pg_size_pretty</th>\n",
       "    </tr>\n",
       "    <tr>\n",
       "        <td>16 kB</td>\n",
       "    </tr>\n",
       "</table>"
      ],
      "text/plain": [
       "[('16 kB',)]"
      ]
     },
     "execution_count": 8,
     "metadata": {},
     "output_type": "execute_result"
    }
   ],
   "source": [
    "%sql select pg_size_pretty(pg_relation_size('idx_17102_primary'));"
   ]
  },
  {
   "cell_type": "markdown",
   "metadata": {},
   "source": [
    "Above we see the size of the 3 different indexes"
   ]
  },
  {
   "cell_type": "code",
   "execution_count": 36,
   "metadata": {},
   "outputs": [
    {
     "name": "stdout",
     "output_type": "stream",
     "text": [
      "10 rows affected.\n"
     ]
    },
    {
     "data": {
      "text/html": [
       "<table>\n",
       "    <tr>\n",
       "        <th>date</th>\n",
       "        <th>Driver&#x27;s Surname</th>\n",
       "        <th>Driver&#x27;s Age</th>\n",
       "        <th>Track Time(ms)</th>\n",
       "        <th>Name</th>\n",
       "        <th>Circuit Name</th>\n",
       "    </tr>\n",
       "    <tr>\n",
       "        <td>2008-03-16</td>\n",
       "        <td>Kovalainen</td>\n",
       "        <td>36.0</td>\n",
       "        <td>04:30:00</td>\n",
       "        <td>Australian Grand Prix</td>\n",
       "        <td>Albert Park Grand Prix Circuit</td>\n",
       "    </tr>\n",
       "    <tr>\n",
       "        <td>2008-04-06</td>\n",
       "        <td>Kovalainen</td>\n",
       "        <td>36.0</td>\n",
       "        <td>11:30:00</td>\n",
       "        <td>Bahrain Grand Prix</td>\n",
       "        <td>Bahrain International Circuit</td>\n",
       "    </tr>\n",
       "    <tr>\n",
       "        <td>2008-08-24</td>\n",
       "        <td>Massa</td>\n",
       "        <td>36.0</td>\n",
       "        <td>12:00:00</td>\n",
       "        <td>European Grand Prix</td>\n",
       "        <td>Valencia Street Circuit</td>\n",
       "    </tr>\n",
       "    <tr>\n",
       "        <td>2008-10-12</td>\n",
       "        <td>Massa</td>\n",
       "        <td>36.0</td>\n",
       "        <td>04:30:00</td>\n",
       "        <td>Japanese Grand Prix</td>\n",
       "        <td>Fuji Speedway</td>\n",
       "    </tr>\n",
       "    <tr>\n",
       "        <td>2008-10-19</td>\n",
       "        <td>Hamilton</td>\n",
       "        <td>33.0</td>\n",
       "        <td>07:00:00</td>\n",
       "        <td>Chinese Grand Prix</td>\n",
       "        <td>Shanghai International Circuit</td>\n",
       "    </tr>\n",
       "    <tr>\n",
       "        <td>2008-11-02</td>\n",
       "        <td>Massa</td>\n",
       "        <td>36.0</td>\n",
       "        <td>17:00:00</td>\n",
       "        <td>Brazilian Grand Prix</td>\n",
       "        <td>Autódromo José Carlos Pace</td>\n",
       "    </tr>\n",
       "    <tr>\n",
       "        <td>2007-04-08</td>\n",
       "        <td>Hamilton</td>\n",
       "        <td>33.0</td>\n",
       "        <td>07:00:00</td>\n",
       "        <td>Malaysian Grand Prix</td>\n",
       "        <td>Sepang International Circuit</td>\n",
       "    </tr>\n",
       "    <tr>\n",
       "        <td>2007-04-15</td>\n",
       "        <td>Massa</td>\n",
       "        <td>36.0</td>\n",
       "        <td>11:30:00</td>\n",
       "        <td>Bahrain Grand Prix</td>\n",
       "        <td>Bahrain International Circuit</td>\n",
       "    </tr>\n",
       "    <tr>\n",
       "        <td>2007-05-13</td>\n",
       "        <td>Massa</td>\n",
       "        <td>36.0</td>\n",
       "        <td>12:00:00</td>\n",
       "        <td>Spanish Grand Prix</td>\n",
       "        <td>Circuit de Barcelona-Catalunya</td>\n",
       "    </tr>\n",
       "    <tr>\n",
       "        <td>2007-05-27</td>\n",
       "        <td>Alonso</td>\n",
       "        <td>36.0</td>\n",
       "        <td>12:00:00</td>\n",
       "        <td>Monaco Grand Prix</td>\n",
       "        <td>Circuit de Monaco</td>\n",
       "    </tr>\n",
       "</table>"
      ],
      "text/plain": [
       "[(datetime.date(2008, 3, 16), 'Kovalainen', 36.0, datetime.time(4, 30), 'Australian Grand Prix', 'Albert Park Grand Prix Circuit'),\n",
       " (datetime.date(2008, 4, 6), 'Kovalainen', 36.0, datetime.time(11, 30), 'Bahrain Grand Prix', 'Bahrain International Circuit'),\n",
       " (datetime.date(2008, 8, 24), 'Massa', 36.0, datetime.time(12, 0), 'European Grand Prix', 'Valencia Street Circuit'),\n",
       " (datetime.date(2008, 10, 12), 'Massa', 36.0, datetime.time(4, 30), 'Japanese Grand Prix', 'Fuji Speedway'),\n",
       " (datetime.date(2008, 10, 19), 'Hamilton', 33.0, datetime.time(7, 0), 'Chinese Grand Prix', 'Shanghai International Circuit'),\n",
       " (datetime.date(2008, 11, 2), 'Massa', 36.0, datetime.time(17, 0), 'Brazilian Grand Prix', 'Autódromo José Carlos Pace'),\n",
       " (datetime.date(2007, 4, 8), 'Hamilton', 33.0, datetime.time(7, 0), 'Malaysian Grand Prix', 'Sepang International Circuit'),\n",
       " (datetime.date(2007, 4, 15), 'Massa', 36.0, datetime.time(11, 30), 'Bahrain Grand Prix', 'Bahrain International Circuit'),\n",
       " (datetime.date(2007, 5, 13), 'Massa', 36.0, datetime.time(12, 0), 'Spanish Grand Prix', 'Circuit de Barcelona-Catalunya'),\n",
       " (datetime.date(2007, 5, 27), 'Alonso', 36.0, datetime.time(12, 0), 'Monaco Grand Prix', 'Circuit de Monaco')]"
      ]
     },
     "execution_count": 36,
     "metadata": {},
     "output_type": "execute_result"
    }
   ],
   "source": [
    "\n",
    "%%sql\n",
    "SELECT races.date, drivers.surname as \"Driver's Surname\", \n",
    "date_part('year', age('2018-03-19',dob)) as \"Driver's Age\", \n",
    "races.time as \"Track Time(ms)\", \n",
    "races.name as \"Name\", \n",
    "circuits.name as \"Circuit Name\" \n",
    "FROM results\n",
    "JOIN drivers USING (driverid)\n",
    "JOIN races USING (raceId)\n",
    "JOIN circuits USING (circuitid)\n",
    "WHERE results.rank = 1\n",
    "AND date_part('year', age('2018-03-19',dob)) < 38\n",
    "LIMIT 10;"
   ]
  },
  {
   "cell_type": "code",
   "execution_count": 31,
   "metadata": {},
   "outputs": [
    {
     "name": "stdout",
     "output_type": "stream",
     "text": [
      "22 rows affected.\n"
     ]
    },
    {
     "data": {
      "text/html": [
       "<table>\n",
       "    <tr>\n",
       "        <th>QUERY PLAN</th>\n",
       "    </tr>\n",
       "    <tr>\n",
       "        <td>Hash Join  (cost=77.92..792.94 rows=86 width=66) (actual time=1.438..7.960 rows=154 loops=1)</td>\n",
       "    </tr>\n",
       "    <tr>\n",
       "        <td>&nbsp;&nbsp;Hash Cond: (races.circuitid = circuits.circuitid)</td>\n",
       "    </tr>\n",
       "    <tr>\n",
       "        <td>&nbsp;&nbsp;-&gt;  Hash Join  (cost=74.28..787.57 rows=86 width=50) (actual time=1.378..7.662 rows=154 loops=1)</td>\n",
       "    </tr>\n",
       "    <tr>\n",
       "        <td>&nbsp;&nbsp;&nbsp;&nbsp;&nbsp;&nbsp;&nbsp;&nbsp;Hash Cond: (results.raceid = races.raceid)</td>\n",
       "    </tr>\n",
       "    <tr>\n",
       "        <td>&nbsp;&nbsp;&nbsp;&nbsp;&nbsp;&nbsp;&nbsp;&nbsp;-&gt;  Hash Join  (cost=34.32..746.53 rows=86 width=19) (actual time=0.768..6.966 rows=154 loops=1)</td>\n",
       "    </tr>\n",
       "    <tr>\n",
       "        <td>&nbsp;&nbsp;&nbsp;&nbsp;&nbsp;&nbsp;&nbsp;&nbsp;&nbsp;&nbsp;&nbsp;&nbsp;&nbsp;&nbsp;Hash Cond: (results.driverid = drivers.driverid)</td>\n",
       "    </tr>\n",
       "    <tr>\n",
       "        <td>&nbsp;&nbsp;&nbsp;&nbsp;&nbsp;&nbsp;&nbsp;&nbsp;&nbsp;&nbsp;&nbsp;&nbsp;&nbsp;&nbsp;-&gt;  Seq Scan on results  (cost=0.00..708.96 rows=257 width=16) (actual time=0.010..6.104 rows=257 loops=1)</td>\n",
       "    </tr>\n",
       "    <tr>\n",
       "        <td>&nbsp;&nbsp;&nbsp;&nbsp;&nbsp;&nbsp;&nbsp;&nbsp;&nbsp;&nbsp;&nbsp;&nbsp;&nbsp;&nbsp;&nbsp;&nbsp;&nbsp;&nbsp;&nbsp;&nbsp;Filter: (rank = 1)</td>\n",
       "    </tr>\n",
       "    <tr>\n",
       "        <td>&nbsp;&nbsp;&nbsp;&nbsp;&nbsp;&nbsp;&nbsp;&nbsp;&nbsp;&nbsp;&nbsp;&nbsp;&nbsp;&nbsp;&nbsp;&nbsp;&nbsp;&nbsp;&nbsp;&nbsp;Rows Removed by Filter: 23420</td>\n",
       "    </tr>\n",
       "    <tr>\n",
       "        <td>&nbsp;&nbsp;&nbsp;&nbsp;&nbsp;&nbsp;&nbsp;&nbsp;&nbsp;&nbsp;&nbsp;&nbsp;&nbsp;&nbsp;-&gt;  Hash  (cost=30.82..30.82 rows=280 width=19) (actual time=0.745..0.745 rows=60 loops=1)</td>\n",
       "    </tr>\n",
       "    <tr>\n",
       "        <td>&nbsp;&nbsp;&nbsp;&nbsp;&nbsp;&nbsp;&nbsp;&nbsp;&nbsp;&nbsp;&nbsp;&nbsp;&nbsp;&nbsp;&nbsp;&nbsp;&nbsp;&nbsp;&nbsp;&nbsp;Buckets: 1024  Batches: 1  Memory Usage: 12kB</td>\n",
       "    </tr>\n",
       "    <tr>\n",
       "        <td>&nbsp;&nbsp;&nbsp;&nbsp;&nbsp;&nbsp;&nbsp;&nbsp;&nbsp;&nbsp;&nbsp;&nbsp;&nbsp;&nbsp;&nbsp;&nbsp;&nbsp;&nbsp;&nbsp;&nbsp;-&gt;  Seq Scan on drivers  (cost=0.00..30.82 rows=280 width=19) (actual time=0.015..0.716 rows=60 loops=1)</td>\n",
       "    </tr>\n",
       "    <tr>\n",
       "        <td>&nbsp;&nbsp;&nbsp;&nbsp;&nbsp;&nbsp;&nbsp;&nbsp;&nbsp;&nbsp;&nbsp;&nbsp;&nbsp;&nbsp;&nbsp;&nbsp;&nbsp;&nbsp;&nbsp;&nbsp;&nbsp;&nbsp;&nbsp;&nbsp;&nbsp;&nbsp;Filter: (date_part(&#x27;year&#x27;::text, age(&#x27;2018-03-19 00:00:00+00&#x27;::timestamp with time zone, (dob)::timestamp with time zone)) &lt; &#x27;38&#x27;::double precision)</td>\n",
       "    </tr>\n",
       "    <tr>\n",
       "        <td>&nbsp;&nbsp;&nbsp;&nbsp;&nbsp;&nbsp;&nbsp;&nbsp;&nbsp;&nbsp;&nbsp;&nbsp;&nbsp;&nbsp;&nbsp;&nbsp;&nbsp;&nbsp;&nbsp;&nbsp;&nbsp;&nbsp;&nbsp;&nbsp;&nbsp;&nbsp;Rows Removed by Filter: 781</td>\n",
       "    </tr>\n",
       "    <tr>\n",
       "        <td>&nbsp;&nbsp;&nbsp;&nbsp;&nbsp;&nbsp;&nbsp;&nbsp;-&gt;  Hash  (cost=27.76..27.76 rows=976 width=47) (actual time=0.603..0.603 rows=976 loops=1)</td>\n",
       "    </tr>\n",
       "    <tr>\n",
       "        <td>&nbsp;&nbsp;&nbsp;&nbsp;&nbsp;&nbsp;&nbsp;&nbsp;&nbsp;&nbsp;&nbsp;&nbsp;&nbsp;&nbsp;Buckets: 1024  Batches: 1  Memory Usage: 83kB</td>\n",
       "    </tr>\n",
       "    <tr>\n",
       "        <td>&nbsp;&nbsp;&nbsp;&nbsp;&nbsp;&nbsp;&nbsp;&nbsp;&nbsp;&nbsp;&nbsp;&nbsp;&nbsp;&nbsp;-&gt;  Seq Scan on races  (cost=0.00..27.76 rows=976 width=47) (actual time=0.006..0.316 rows=976 loops=1)</td>\n",
       "    </tr>\n",
       "    <tr>\n",
       "        <td>&nbsp;&nbsp;-&gt;  Hash  (cost=2.73..2.73 rows=73 width=28) (actual time=0.048..0.048 rows=73 loops=1)</td>\n",
       "    </tr>\n",
       "    <tr>\n",
       "        <td>&nbsp;&nbsp;&nbsp;&nbsp;&nbsp;&nbsp;&nbsp;&nbsp;Buckets: 1024  Batches: 1  Memory Usage: 13kB</td>\n",
       "    </tr>\n",
       "    <tr>\n",
       "        <td>&nbsp;&nbsp;&nbsp;&nbsp;&nbsp;&nbsp;&nbsp;&nbsp;-&gt;  Seq Scan on circuits  (cost=0.00..2.73 rows=73 width=28) (actual time=0.011..0.028 rows=73 loops=1)</td>\n",
       "    </tr>\n",
       "    <tr>\n",
       "        <td>Planning time: 0.673 ms</td>\n",
       "    </tr>\n",
       "    <tr>\n",
       "        <td>Execution time: 8.063 ms</td>\n",
       "    </tr>\n",
       "</table>"
      ],
      "text/plain": [
       "[('Hash Join  (cost=77.92..792.94 rows=86 width=66) (actual time=1.438..7.960 rows=154 loops=1)',),\n",
       " ('  Hash Cond: (races.circuitid = circuits.circuitid)',),\n",
       " ('  ->  Hash Join  (cost=74.28..787.57 rows=86 width=50) (actual time=1.378..7.662 rows=154 loops=1)',),\n",
       " ('        Hash Cond: (results.raceid = races.raceid)',),\n",
       " ('        ->  Hash Join  (cost=34.32..746.53 rows=86 width=19) (actual time=0.768..6.966 rows=154 loops=1)',),\n",
       " ('              Hash Cond: (results.driverid = drivers.driverid)',),\n",
       " ('              ->  Seq Scan on results  (cost=0.00..708.96 rows=257 width=16) (actual time=0.010..6.104 rows=257 loops=1)',),\n",
       " ('                    Filter: (rank = 1)',),\n",
       " ('                    Rows Removed by Filter: 23420',),\n",
       " ('              ->  Hash  (cost=30.82..30.82 rows=280 width=19) (actual time=0.745..0.745 rows=60 loops=1)',),\n",
       " ('                    Buckets: 1024  Batches: 1  Memory Usage: 12kB',),\n",
       " ('                    ->  Seq Scan on drivers  (cost=0.00..30.82 rows=280 width=19) (actual time=0.015..0.716 rows=60 loops=1)',),\n",
       " (\"                          Filter: (date_part('year'::text, age('2018-03-19 00:00:00+00'::timestamp with time zone, (dob)::timestamp with time zone)) < '38'::double precision)\",),\n",
       " ('                          Rows Removed by Filter: 781',),\n",
       " ('        ->  Hash  (cost=27.76..27.76 rows=976 width=47) (actual time=0.603..0.603 rows=976 loops=1)',),\n",
       " ('              Buckets: 1024  Batches: 1  Memory Usage: 83kB',),\n",
       " ('              ->  Seq Scan on races  (cost=0.00..27.76 rows=976 width=47) (actual time=0.006..0.316 rows=976 loops=1)',),\n",
       " ('  ->  Hash  (cost=2.73..2.73 rows=73 width=28) (actual time=0.048..0.048 rows=73 loops=1)',),\n",
       " ('        Buckets: 1024  Batches: 1  Memory Usage: 13kB',),\n",
       " ('        ->  Seq Scan on circuits  (cost=0.00..2.73 rows=73 width=28) (actual time=0.011..0.028 rows=73 loops=1)',),\n",
       " ('Planning time: 0.673 ms',),\n",
       " ('Execution time: 8.063 ms',)]"
      ]
     },
     "execution_count": 31,
     "metadata": {},
     "output_type": "execute_result"
    }
   ],
   "source": [
    "%%sql\n",
    "EXPLAIN ANALYZE\n",
    "SELECT races.date, drivers.surname as \"Driver's Surname\", date_part('year', age('2018-03-19',dob)) as \"Driver's Age\", races.time as \"Track Time(ms)\", races.name as \"Name\", circuits.name as \"Circuit Name\" \n",
    "FROM results\n",
    "JOIN drivers USING (driverid)\n",
    "JOIN races USING (raceId)\n",
    "JOIN circuits USING (circuitid)\n",
    "WHERE results.rank = 1\n",
    "AND date_part('year', age('2018-03-19',dob)) < 38;"
   ]
  },
  {
   "cell_type": "markdown",
   "metadata": {},
   "source": [
    "Here we can see that there are 9 arrows, \n",
    "which means there are 10 calls made (the very first call does not have an arrow) \n",
    "from the analyse and the total\n",
    "execution times varies a little bit, \n",
    "but seems to be around 8.000ms"
   ]
  },
  {
   "cell_type": "code",
   "execution_count": 34,
   "metadata": {},
   "outputs": [
    {
     "name": "stdout",
     "output_type": "stream",
     "text": [
      "154 rows affected.\n"
     ]
    },
    {
     "data": {
      "text/plain": [
       "[]"
      ]
     },
     "execution_count": 34,
     "metadata": {},
     "output_type": "execute_result"
    }
   ],
   "source": [
    "%%sql CREATE MATERIALIZED VIEW race_winners_cache AS SELECT races.date, drivers.surname as \"Driver's Surname\", date_part('year', age('2018-03-19',dob)) as \"Driver's Age\", races.time as \"Track Time(ms)\", races.name as \"Name\", circuits.name as \"Circuit Name\" \n",
    "FROM results\n",
    "JOIN drivers USING (driverid)\n",
    "JOIN races USING (raceId)\n",
    "JOIN circuits USING (circuitid)\n",
    "WHERE results.rank = 1\n",
    "AND date_part('year', age('2018-03-19',dob)) < 38;"
   ]
  },
  {
   "cell_type": "code",
   "execution_count": 35,
   "metadata": {},
   "outputs": [
    {
     "name": "stdout",
     "output_type": "stream",
     "text": [
      "3 rows affected.\n"
     ]
    },
    {
     "data": {
      "text/html": [
       "<table>\n",
       "    <tr>\n",
       "        <th>QUERY PLAN</th>\n",
       "    </tr>\n",
       "    <tr>\n",
       "        <td>Seq Scan on race_winners_cache  (cost=0.00..10.50 rows=50 width=1568) (actual time=0.012..0.094 rows=154 loops=1)</td>\n",
       "    </tr>\n",
       "    <tr>\n",
       "        <td>Planning time: 0.118 ms</td>\n",
       "    </tr>\n",
       "    <tr>\n",
       "        <td>Execution time: 0.127 ms</td>\n",
       "    </tr>\n",
       "</table>"
      ],
      "text/plain": [
       "[('Seq Scan on race_winners_cache  (cost=0.00..10.50 rows=50 width=1568) (actual time=0.012..0.094 rows=154 loops=1)',),\n",
       " ('Planning time: 0.118 ms',),\n",
       " ('Execution time: 0.127 ms',)]"
      ]
     },
     "execution_count": 35,
     "metadata": {},
     "output_type": "execute_result"
    }
   ],
   "source": [
    "%sql \n",
    "EXPLAIN ANALYZE SELECT * FROM race_winners_cache;"
   ]
  },
  {
   "cell_type": "markdown",
   "metadata": {},
   "source": [
    "Above we can see how it works after it have been created in a materialized view and that it was much faster than the previous one."
   ]
  },
  {
   "cell_type": "code",
   "execution_count": null,
   "metadata": {},
   "outputs": [],
   "source": []
  }
 ],
 "metadata": {
  "kernelspec": {
   "display_name": "Python 3",
   "language": "python",
   "name": "python3"
  },
  "language_info": {
   "codemirror_mode": {
    "name": "ipython",
    "version": 3
   },
   "file_extension": ".py",
   "mimetype": "text/x-python",
   "name": "python",
   "nbconvert_exporter": "python",
   "pygments_lexer": "ipython3",
   "version": "3.6.3"
  }
 },
 "nbformat": 4,
 "nbformat_minor": 2
}
